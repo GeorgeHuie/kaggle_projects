{
 "cells": [
  {
   "cell_type": "markdown",
   "id": "99409e7b",
   "metadata": {},
   "source": [
    "Predicting Optimal Fertilizers  \n",
    "goal: select the best fertilizer for different weather, soil condition and crops  \n"
   ]
  },
  {
   "cell_type": "code",
   "execution_count": 1,
   "id": "7d80456e",
   "metadata": {},
   "outputs": [],
   "source": [
    "import pandas as pd\n",
    "import numpy as np\n"
   ]
  },
  {
   "cell_type": "code",
   "execution_count": 2,
   "id": "2b28027e",
   "metadata": {},
   "outputs": [],
   "source": [
    "df_train = pd.read_csv(r'D:\\Python Code VS\\kaggle_compt_data\\playground-series-s5e6\\train.csv')"
   ]
  },
  {
   "cell_type": "code",
   "execution_count": 3,
   "id": "1d7a595c",
   "metadata": {},
   "outputs": [
    {
     "data": {
      "text/html": [
       "<div>\n",
       "<style scoped>\n",
       "    .dataframe tbody tr th:only-of-type {\n",
       "        vertical-align: middle;\n",
       "    }\n",
       "\n",
       "    .dataframe tbody tr th {\n",
       "        vertical-align: top;\n",
       "    }\n",
       "\n",
       "    .dataframe thead th {\n",
       "        text-align: right;\n",
       "    }\n",
       "</style>\n",
       "<table border=\"1\" class=\"dataframe\">\n",
       "  <thead>\n",
       "    <tr style=\"text-align: right;\">\n",
       "      <th></th>\n",
       "      <th>id</th>\n",
       "      <th>Temparature</th>\n",
       "      <th>Humidity</th>\n",
       "      <th>Moisture</th>\n",
       "      <th>Soil Type</th>\n",
       "      <th>Crop Type</th>\n",
       "      <th>Nitrogen</th>\n",
       "      <th>Potassium</th>\n",
       "      <th>Phosphorous</th>\n",
       "      <th>Fertilizer Name</th>\n",
       "    </tr>\n",
       "  </thead>\n",
       "  <tbody>\n",
       "    <tr>\n",
       "      <th>0</th>\n",
       "      <td>0</td>\n",
       "      <td>37</td>\n",
       "      <td>70</td>\n",
       "      <td>36</td>\n",
       "      <td>Clayey</td>\n",
       "      <td>Sugarcane</td>\n",
       "      <td>36</td>\n",
       "      <td>4</td>\n",
       "      <td>5</td>\n",
       "      <td>28-28</td>\n",
       "    </tr>\n",
       "    <tr>\n",
       "      <th>1</th>\n",
       "      <td>1</td>\n",
       "      <td>27</td>\n",
       "      <td>69</td>\n",
       "      <td>65</td>\n",
       "      <td>Sandy</td>\n",
       "      <td>Millets</td>\n",
       "      <td>30</td>\n",
       "      <td>6</td>\n",
       "      <td>18</td>\n",
       "      <td>28-28</td>\n",
       "    </tr>\n",
       "    <tr>\n",
       "      <th>2</th>\n",
       "      <td>2</td>\n",
       "      <td>29</td>\n",
       "      <td>63</td>\n",
       "      <td>32</td>\n",
       "      <td>Sandy</td>\n",
       "      <td>Millets</td>\n",
       "      <td>24</td>\n",
       "      <td>12</td>\n",
       "      <td>16</td>\n",
       "      <td>17-17-17</td>\n",
       "    </tr>\n",
       "    <tr>\n",
       "      <th>3</th>\n",
       "      <td>3</td>\n",
       "      <td>35</td>\n",
       "      <td>62</td>\n",
       "      <td>54</td>\n",
       "      <td>Sandy</td>\n",
       "      <td>Barley</td>\n",
       "      <td>39</td>\n",
       "      <td>12</td>\n",
       "      <td>4</td>\n",
       "      <td>10-26-26</td>\n",
       "    </tr>\n",
       "    <tr>\n",
       "      <th>4</th>\n",
       "      <td>4</td>\n",
       "      <td>35</td>\n",
       "      <td>58</td>\n",
       "      <td>43</td>\n",
       "      <td>Red</td>\n",
       "      <td>Paddy</td>\n",
       "      <td>37</td>\n",
       "      <td>2</td>\n",
       "      <td>16</td>\n",
       "      <td>DAP</td>\n",
       "    </tr>\n",
       "    <tr>\n",
       "      <th>5</th>\n",
       "      <td>5</td>\n",
       "      <td>30</td>\n",
       "      <td>59</td>\n",
       "      <td>29</td>\n",
       "      <td>Red</td>\n",
       "      <td>Pulses</td>\n",
       "      <td>10</td>\n",
       "      <td>0</td>\n",
       "      <td>9</td>\n",
       "      <td>20-20</td>\n",
       "    </tr>\n",
       "    <tr>\n",
       "      <th>6</th>\n",
       "      <td>6</td>\n",
       "      <td>27</td>\n",
       "      <td>62</td>\n",
       "      <td>53</td>\n",
       "      <td>Sandy</td>\n",
       "      <td>Paddy</td>\n",
       "      <td>26</td>\n",
       "      <td>15</td>\n",
       "      <td>22</td>\n",
       "      <td>28-28</td>\n",
       "    </tr>\n",
       "    <tr>\n",
       "      <th>7</th>\n",
       "      <td>7</td>\n",
       "      <td>36</td>\n",
       "      <td>62</td>\n",
       "      <td>44</td>\n",
       "      <td>Red</td>\n",
       "      <td>Pulses</td>\n",
       "      <td>30</td>\n",
       "      <td>12</td>\n",
       "      <td>35</td>\n",
       "      <td>14-35-14</td>\n",
       "    </tr>\n",
       "    <tr>\n",
       "      <th>8</th>\n",
       "      <td>8</td>\n",
       "      <td>36</td>\n",
       "      <td>51</td>\n",
       "      <td>32</td>\n",
       "      <td>Loamy</td>\n",
       "      <td>Tobacco</td>\n",
       "      <td>19</td>\n",
       "      <td>17</td>\n",
       "      <td>29</td>\n",
       "      <td>17-17-17</td>\n",
       "    </tr>\n",
       "    <tr>\n",
       "      <th>9</th>\n",
       "      <td>9</td>\n",
       "      <td>28</td>\n",
       "      <td>50</td>\n",
       "      <td>35</td>\n",
       "      <td>Red</td>\n",
       "      <td>Tobacco</td>\n",
       "      <td>25</td>\n",
       "      <td>12</td>\n",
       "      <td>16</td>\n",
       "      <td>20-20</td>\n",
       "    </tr>\n",
       "  </tbody>\n",
       "</table>\n",
       "</div>"
      ],
      "text/plain": [
       "   id  Temparature  Humidity  Moisture Soil Type  Crop Type  Nitrogen  \\\n",
       "0   0           37        70        36    Clayey  Sugarcane        36   \n",
       "1   1           27        69        65     Sandy    Millets        30   \n",
       "2   2           29        63        32     Sandy    Millets        24   \n",
       "3   3           35        62        54     Sandy     Barley        39   \n",
       "4   4           35        58        43       Red      Paddy        37   \n",
       "5   5           30        59        29       Red     Pulses        10   \n",
       "6   6           27        62        53     Sandy      Paddy        26   \n",
       "7   7           36        62        44       Red     Pulses        30   \n",
       "8   8           36        51        32     Loamy    Tobacco        19   \n",
       "9   9           28        50        35       Red    Tobacco        25   \n",
       "\n",
       "   Potassium  Phosphorous Fertilizer Name  \n",
       "0          4            5           28-28  \n",
       "1          6           18           28-28  \n",
       "2         12           16        17-17-17  \n",
       "3         12            4        10-26-26  \n",
       "4          2           16             DAP  \n",
       "5          0            9           20-20  \n",
       "6         15           22           28-28  \n",
       "7         12           35        14-35-14  \n",
       "8         17           29        17-17-17  \n",
       "9         12           16           20-20  "
      ]
     },
     "execution_count": 3,
     "metadata": {},
     "output_type": "execute_result"
    }
   ],
   "source": [
    "df_train.head(10)"
   ]
  },
  {
   "cell_type": "markdown",
   "id": "22ef6ba0",
   "metadata": {},
   "source": [
    "try model 1: decision tree, "
   ]
  },
  {
   "cell_type": "code",
   "execution_count": 4,
   "id": "fc5cf7c9",
   "metadata": {},
   "outputs": [
    {
     "name": "stdout",
     "output_type": "stream",
     "text": [
      "<class 'pandas.core.frame.DataFrame'>\n",
      "RangeIndex: 750000 entries, 0 to 749999\n",
      "Data columns (total 10 columns):\n",
      " #   Column           Non-Null Count   Dtype \n",
      "---  ------           --------------   ----- \n",
      " 0   id               750000 non-null  int64 \n",
      " 1   Temparature      750000 non-null  int64 \n",
      " 2   Humidity         750000 non-null  int64 \n",
      " 3   Moisture         750000 non-null  int64 \n",
      " 4   Soil Type        750000 non-null  object\n",
      " 5   Crop Type        750000 non-null  object\n",
      " 6   Nitrogen         750000 non-null  int64 \n",
      " 7   Potassium        750000 non-null  int64 \n",
      " 8   Phosphorous      750000 non-null  int64 \n",
      " 9   Fertilizer Name  750000 non-null  object\n",
      "dtypes: int64(7), object(3)\n",
      "memory usage: 57.2+ MB\n"
     ]
    }
   ],
   "source": [
    "#drop unnecessary columns\n",
    "df = df_train.copy()\n",
    "df.info()"
   ]
  },
  {
   "cell_type": "code",
   "execution_count": 5,
   "id": "9d0c022b",
   "metadata": {},
   "outputs": [
    {
     "data": {
      "text/plain": [
       "Fertilizer Name\n",
       "14-35-14    114436\n",
       "10-26-26    113887\n",
       "17-17-17    112453\n",
       "28-28       111158\n",
       "20-20       110889\n",
       "DAP          94860\n",
       "Urea         92317\n",
       "Name: count, dtype: int64"
      ]
     },
     "execution_count": 5,
     "metadata": {},
     "output_type": "execute_result"
    }
   ],
   "source": [
    "df['Fertilizer Name'].value_counts()"
   ]
  },
  {
   "cell_type": "code",
   "execution_count": 6,
   "id": "ff2992ff",
   "metadata": {},
   "outputs": [
    {
     "data": {
      "text/plain": [
       "Fertilizer Name  Crop Type  \n",
       "10-26-26         Barley          9447\n",
       "                 Cotton         10204\n",
       "                 Ground Nuts     9087\n",
       "                 Maize           9821\n",
       "                 Millets         9300\n",
       "                                ...  \n",
       "Urea             Paddy          10958\n",
       "                 Pulses          8222\n",
       "                 Sugarcane       6314\n",
       "                 Tobacco         8362\n",
       "                 Wheat           8709\n",
       "Length: 77, dtype: int64"
      ]
     },
     "execution_count": 6,
     "metadata": {},
     "output_type": "execute_result"
    }
   ],
   "source": [
    "df.groupby(['Fertilizer Name', 'Crop Type']).size()"
   ]
  },
  {
   "cell_type": "code",
   "execution_count": 7,
   "id": "b2589587",
   "metadata": {},
   "outputs": [],
   "source": [
    "from sklearn.model_selection import train_test_split\n",
    "from sklearn.model_selection import GridSearchCV\n",
    "from sklearn.tree import DecisionTreeClassifier\n",
    "from sklearn.tree import plot_tree\n",
    "import sklearn.metrics as metrics\n",
    "from sklearn.preprocessing import LabelEncoder"
   ]
  },
  {
   "cell_type": "code",
   "execution_count": 8,
   "id": "76479794",
   "metadata": {},
   "outputs": [
    {
     "name": "stdout",
     "output_type": "stream",
     "text": [
      "Best parameters found:  {'criterion': 'entropy', 'max_depth': 10, 'min_samples_leaf': 1, 'min_samples_split': 10}\n"
     ]
    }
   ],
   "source": [
    "encoder = LabelEncoder()\n",
    "# Encode categorical variables\n",
    "categorical_cols = df.select_dtypes(include=['object']).columns\n",
    "for col in categorical_cols:\n",
    "    df[col] = encoder.fit_transform(df[col])\n",
    "\n",
    "\n",
    "X = df.drop(columns=['Fertilizer Name'])\n",
    "y = df['Fertilizer Name']\n",
    "\n",
    "X_train, X_test, y_train, y_test = train_test_split(X, y, test_size=0.2, random_state=42)\n",
    "clf = DecisionTreeClassifier(random_state=42)\n",
    "param_grid = {\n",
    "    'criterion': ['gini', 'entropy'],\n",
    "    'max_depth': [None, 5, 10, 15, 20],\n",
    "    'min_samples_split': [2, 5, 10],\n",
    "    'min_samples_leaf': [1, 2, 4]\n",
    "}\n",
    "grid_search = GridSearchCV(clf, param_grid, cv=5, scoring='accuracy', n_jobs=-1)\n",
    "grid_search.fit(X_train, y_train)\n",
    "print(\"Best parameters found: \", grid_search.best_params_)\n",
    "best_clf = grid_search.best_estimator_"
   ]
  },
  {
   "cell_type": "code",
   "execution_count": 9,
   "id": "ea5ee1a3",
   "metadata": {},
   "outputs": [
    {
     "name": "stdout",
     "output_type": "stream",
     "text": [
      "Accuracy:  0.16120666666666666\n"
     ]
    }
   ],
   "source": [
    "# use best_clf to predict\n",
    "y_pred = best_clf.predict(X_test)\n",
    "# Evaluate the model\n",
    "accuracy = metrics.accuracy_score(y_test, y_pred)\n",
    "print(\"Accuracy: \", accuracy)"
   ]
  },
  {
   "cell_type": "code",
   "execution_count": 10,
   "id": "69102a08",
   "metadata": {},
   "outputs": [
    {
     "data": {
      "image/png": "[encoded data removed]",
      "text/plain": [
       "<Figure size 2000x1000 with 1 Axes>"
      ]
     },
     "metadata": {},
     "output_type": "display_data"
    }
   ],
   "source": [
    "import matplotlib.pyplot as plt\n",
    "plt.figure(figsize=(20, 10))\n",
    "plot_tree(\n",
    "    best_clf,\n",
    "    filled=True,\n",
    "    feature_names=X.columns,\n",
    "    class_names=encoder.inverse_transform(np.unique(y)),\n",
    "    rounded=True,\n",
    "    max_depth=2  # Show only top 3 levels (root + 2 splits)\n",
    ")\n",
    "plt.show()"
   ]
  },
  {
   "cell_type": "code",
   "execution_count": 14,
   "id": "e717cd8f",
   "metadata": {},
   "outputs": [
    {
     "name": "stdout",
     "output_type": "stream",
     "text": [
      "<class 'pandas.core.frame.DataFrame'>\n",
      "RangeIndex: 250000 entries, 0 to 249999\n",
      "Data columns (total 9 columns):\n",
      " #   Column       Non-Null Count   Dtype \n",
      "---  ------       --------------   ----- \n",
      " 0   id           250000 non-null  int64 \n",
      " 1   Temparature  250000 non-null  int64 \n",
      " 2   Humidity     250000 non-null  int64 \n",
      " 3   Moisture     250000 non-null  int64 \n",
      " 4   Soil Type    250000 non-null  object\n",
      " 5   Crop Type    250000 non-null  object\n",
      " 6   Nitrogen     250000 non-null  int64 \n",
      " 7   Potassium    250000 non-null  int64 \n",
      " 8   Phosphorous  250000 non-null  int64 \n",
      "dtypes: int64(7), object(2)\n",
      "memory usage: 17.2+ MB\n"
     ]
    }
   ],
   "source": [
    "df_test = pd.read_csv(r'D:\\Python Code VS\\kaggle_compt_data\\playground-series-s5e6\\test.csv')\n",
    "df_test.info()\n",
    "categorical_cols_test = df_test.select_dtypes(include=['object']).columns"
   ]
  },
  {
   "cell_type": "code",
   "execution_count": null,
   "id": "5522bd47",
   "metadata": {},
   "outputs": [],
   "source": [
    "# Encode categorical variables in the test set\n",
    "for col in categorical_cols_test:\n",
    "    df_test[col] = encoder.fit_transform(df_test[col])\n",
    "    \n",
    "df_test_X = df_test.copy()\n",
    "# Predict on the test set\n",
    "df_test_y_pred = best_clf.predict(df_test_X)"
   ]
  },
  {
   "cell_type": "code",
   "execution_count": 62,
   "id": "0cac0907",
   "metadata": {},
   "outputs": [
    {
     "data": {
      "text/plain": [
       "array([0, 2, 0, ..., 0, 0, 1])"
      ]
     },
     "execution_count": 62,
     "metadata": {},
     "output_type": "execute_result"
    }
   ],
   "source": [
    "df_test_y_pred"
   ]
  },
  {
   "cell_type": "code",
   "execution_count": 66,
   "id": "ee3a9ddd",
   "metadata": {},
   "outputs": [
    {
     "name": "stdout",
     "output_type": "stream",
     "text": [
      "<class 'pandas.core.frame.DataFrame'>\n",
      "RangeIndex: 750000 entries, 0 to 749999\n",
      "Data columns (total 10 columns):\n",
      " #   Column           Non-Null Count   Dtype \n",
      "---  ------           --------------   ----- \n",
      " 0   id               750000 non-null  int64 \n",
      " 1   Temparature      750000 non-null  int64 \n",
      " 2   Humidity         750000 non-null  int64 \n",
      " 3   Moisture         750000 non-null  int64 \n",
      " 4   Soil Type        750000 non-null  object\n",
      " 5   Crop Type        750000 non-null  object\n",
      " 6   Nitrogen         750000 non-null  int64 \n",
      " 7   Potassium        750000 non-null  int64 \n",
      " 8   Phosphorous      750000 non-null  int64 \n",
      " 9   Fertilizer Name  750000 non-null  object\n",
      "dtypes: int64(7), object(3)\n",
      "memory usage: 57.2+ MB\n"
     ]
    }
   ],
   "source": [
    "df_train.info()\n",
    "df_train_1 = df_train.copy()\n",
    "encoder_1 = LabelEncoder()\n",
    "#encode df['Fertilizer Name'] with LabelEncoder\n",
    "df_train_1['Fertilizer Name'] = encoder_1.fit_transform(df_train_1['Fertilizer Name'])"
   ]
  },
  {
   "cell_type": "code",
   "execution_count": 69,
   "id": "e7464b0d",
   "metadata": {},
   "outputs": [
    {
     "data": {
      "text/html": [
       "<div>\n",
       "<style scoped>\n",
       "    .dataframe tbody tr th:only-of-type {\n",
       "        vertical-align: middle;\n",
       "    }\n",
       "\n",
       "    .dataframe tbody tr th {\n",
       "        vertical-align: top;\n",
       "    }\n",
       "\n",
       "    .dataframe thead th {\n",
       "        text-align: right;\n",
       "    }\n",
       "</style>\n",
       "<table border=\"1\" class=\"dataframe\">\n",
       "  <thead>\n",
       "    <tr style=\"text-align: right;\">\n",
       "      <th></th>\n",
       "      <th>id</th>\n",
       "      <th>Fertilizer Name</th>\n",
       "    </tr>\n",
       "  </thead>\n",
       "  <tbody>\n",
       "    <tr>\n",
       "      <th>0</th>\n",
       "      <td>750000</td>\n",
       "      <td>10-26-26</td>\n",
       "    </tr>\n",
       "    <tr>\n",
       "      <th>1</th>\n",
       "      <td>750001</td>\n",
       "      <td>17-17-17</td>\n",
       "    </tr>\n",
       "    <tr>\n",
       "      <th>2</th>\n",
       "      <td>750002</td>\n",
       "      <td>10-26-26</td>\n",
       "    </tr>\n",
       "    <tr>\n",
       "      <th>3</th>\n",
       "      <td>750003</td>\n",
       "      <td>14-35-14</td>\n",
       "    </tr>\n",
       "    <tr>\n",
       "      <th>4</th>\n",
       "      <td>750004</td>\n",
       "      <td>20-20</td>\n",
       "    </tr>\n",
       "    <tr>\n",
       "      <th>...</th>\n",
       "      <td>...</td>\n",
       "      <td>...</td>\n",
       "    </tr>\n",
       "    <tr>\n",
       "      <th>249995</th>\n",
       "      <td>999995</td>\n",
       "      <td>14-35-14</td>\n",
       "    </tr>\n",
       "    <tr>\n",
       "      <th>249996</th>\n",
       "      <td>999996</td>\n",
       "      <td>20-20</td>\n",
       "    </tr>\n",
       "    <tr>\n",
       "      <th>249997</th>\n",
       "      <td>999997</td>\n",
       "      <td>10-26-26</td>\n",
       "    </tr>\n",
       "    <tr>\n",
       "      <th>249998</th>\n",
       "      <td>999998</td>\n",
       "      <td>10-26-26</td>\n",
       "    </tr>\n",
       "    <tr>\n",
       "      <th>249999</th>\n",
       "      <td>999999</td>\n",
       "      <td>14-35-14</td>\n",
       "    </tr>\n",
       "  </tbody>\n",
       "</table>\n",
       "<p>250000 rows × 2 columns</p>\n",
       "</div>"
      ],
      "text/plain": [
       "            id Fertilizer Name\n",
       "0       750000        10-26-26\n",
       "1       750001        17-17-17\n",
       "2       750002        10-26-26\n",
       "3       750003        14-35-14\n",
       "4       750004           20-20\n",
       "...        ...             ...\n",
       "249995  999995        14-35-14\n",
       "249996  999996           20-20\n",
       "249997  999997        10-26-26\n",
       "249998  999998        10-26-26\n",
       "249999  999999        14-35-14\n",
       "\n",
       "[250000 rows x 2 columns]"
      ]
     },
     "execution_count": 69,
     "metadata": {},
     "output_type": "execute_result"
    }
   ],
   "source": [
    "#  id,Fertilizer Name \n",
    "\n",
    "submission = pd.DataFrame({\n",
    "    'id': df_test['id'],\n",
    "    'Fertilizer Name': encoder_1.inverse_transform(df_test_y_pred)  # Adding 1 to match the original labels\n",
    "})\n",
    "submission\n"
   ]
  },
  {
   "cell_type": "code",
   "execution_count": 70,
   "id": "7dec6731",
   "metadata": {},
   "outputs": [
    {
     "name": "stdout",
     "output_type": "stream",
     "text": [
      "            id             Top 3 Fertilizers\n",
      "0       750000      10-26-26, Urea, 17-17-17\n",
      "1       750001     17-17-17, 14-35-14, 28-28\n",
      "2       750002     10-26-26, 28-28, 14-35-14\n",
      "3       750003       14-35-14, 10-26-26, DAP\n",
      "4       750004     20-20, 14-35-14, 17-17-17\n",
      "...        ...                           ...\n",
      "249995  999995  14-35-14, 10-26-26, 17-17-17\n",
      "249996  999996        20-20, 10-26-26, 28-28\n",
      "249997  999997           Urea, 10-26-26, DAP\n",
      "249998  999998     10-26-26, 17-17-17, 28-28\n",
      "249999  999999     14-35-14, 28-28, 17-17-17\n",
      "\n",
      "[250000 rows x 2 columns]\n"
     ]
    }
   ],
   "source": [
    "# Get prediction probabilities\n",
    "pred_probs = best_clf.predict_proba(df_test)  # Ensure your model supports predict_proba()\n",
    "\n",
    "# Get top 3 predictions for each row\n",
    "top_3_indices = np.argsort(pred_probs, axis=1)[:, -3:]  # Get indices of top 3 classes\n",
    "\n",
    "# Reverse indices (highest probability first)\n",
    "top_3_indices = np.flip(top_3_indices, axis=1)\n",
    "\n",
    "# Convert indices to fertilizer names using the encoder\n",
    "top_3_fertilizers = np.array([encoder_1.inverse_transform(row) for row in top_3_indices])\n",
    "\n",
    "# Create DataFrame with top 3 fertilizers\n",
    "submission = pd.DataFrame({\n",
    "    'id': df_test['id'],\n",
    "    'Top 3 Fertilizers': [', '.join(fertilizers) for fertilizers in top_3_fertilizers]  # Format as comma-separated\n",
    "})\n",
    "\n",
    "print(submission)\n"
   ]
  },
  {
   "cell_type": "code",
   "execution_count": 72,
   "id": "40f8822a",
   "metadata": {},
   "outputs": [
    {
     "data": {
      "text/html": [
       "<div>\n",
       "<style scoped>\n",
       "    .dataframe tbody tr th:only-of-type {\n",
       "        vertical-align: middle;\n",
       "    }\n",
       "\n",
       "    .dataframe tbody tr th {\n",
       "        vertical-align: top;\n",
       "    }\n",
       "\n",
       "    .dataframe thead th {\n",
       "        text-align: right;\n",
       "    }\n",
       "</style>\n",
       "<table border=\"1\" class=\"dataframe\">\n",
       "  <thead>\n",
       "    <tr style=\"text-align: right;\">\n",
       "      <th></th>\n",
       "      <th>id</th>\n",
       "      <th>Fertilizer Name</th>\n",
       "    </tr>\n",
       "  </thead>\n",
       "  <tbody>\n",
       "    <tr>\n",
       "      <th>0</th>\n",
       "      <td>750000</td>\n",
       "      <td>10-26-26 Urea 17-17-17</td>\n",
       "    </tr>\n",
       "    <tr>\n",
       "      <th>1</th>\n",
       "      <td>750001</td>\n",
       "      <td>17-17-17 14-35-14 28-28</td>\n",
       "    </tr>\n",
       "    <tr>\n",
       "      <th>2</th>\n",
       "      <td>750002</td>\n",
       "      <td>10-26-26 28-28 14-35-14</td>\n",
       "    </tr>\n",
       "    <tr>\n",
       "      <th>3</th>\n",
       "      <td>750003</td>\n",
       "      <td>14-35-14 10-26-26 DAP</td>\n",
       "    </tr>\n",
       "    <tr>\n",
       "      <th>4</th>\n",
       "      <td>750004</td>\n",
       "      <td>20-20 14-35-14 17-17-17</td>\n",
       "    </tr>\n",
       "  </tbody>\n",
       "</table>\n",
       "</div>"
      ],
      "text/plain": [
       "       id          Fertilizer Name\n",
       "0  750000   10-26-26 Urea 17-17-17\n",
       "1  750001  17-17-17 14-35-14 28-28\n",
       "2  750002  10-26-26 28-28 14-35-14\n",
       "3  750003    14-35-14 10-26-26 DAP\n",
       "4  750004  20-20 14-35-14 17-17-17"
      ]
     },
     "execution_count": 72,
     "metadata": {},
     "output_type": "execute_result"
    }
   ],
   "source": [
    "# submission file \n",
    "\n",
    "submission_fmt = submission.copy()\n",
    "submission_fmt['Fertilizer Name'] = submission_fmt['Top 3 Fertilizers'].str.replace(',', '')\n",
    "submission_fmt = submission_fmt[['id', 'Fertilizer Name']]\n",
    "submission_fmt.to_csv('Fertilizers_submission.csv', index=False, header=True)\n",
    "submission_fmt.head()"
   ]
  }
 ],
 "metadata": {
  "kernelspec": {
   "display_name": "Python 3",
   "language": "python",
   "name": "python3"
  },
  "language_info": {
   "codemirror_mode": {
    "name": "ipython",
    "version": 3
   },
   "file_extension": ".py",
   "mimetype": "text/x-python",
   "name": "python",
   "nbconvert_exporter": "python",
   "pygments_lexer": "ipython3",
   "version": "3.11.9"
  }
 },
 "nbformat": 4,
 "nbformat_minor": 5
}
